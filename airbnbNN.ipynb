{
 "cells": [
  {
   "cell_type": "code",
   "execution_count": null,
   "metadata": {},
   "outputs": [],
   "source": [
    "# Neural network on copenhagen\n",
    "# cx = np.concatenate((cX,lX), axis=0)\n",
    "# cY = np.concatenate((cy,ly), axis=0)\n",
    "cx = np.asarray(cX).astype('float32')\n",
    "cY = np.asarray(cy).astype('float32')\n",
    "\n",
    "\n",
    "\n",
    "cX_train, cX_testval, cy_train, cy_testval = train_test_split(cx, cY, test_size=0.20, random_state=4)\n",
    "cX_test, cX_val, cy_test, cy_val = train_test_split(cX_testval, cy_testval, test_size=0.5, random_state=4)\n",
    "\n",
    "print(cX_train.shape, cX_test.shape, cX_val.shape)"
   ]
  },
  {
   "cell_type": "code",
   "execution_count": null,
   "metadata": {},
   "outputs": [],
   "source": [
    "import tensorflow as tf\n",
    "\n",
    "from tensorflow import keras\n",
    "from tensorflow.keras import layers"
   ]
  },
  {
   "cell_type": "code",
   "execution_count": null,
   "metadata": {},
   "outputs": [],
   "source": [
    "#normalize our data\n",
    "from sklearn.preprocessing import StandardScaler\n",
    "X_scaler = StandardScaler()\n",
    "cx_train_sc = X_scaler.fit_transform(cX_train)\n",
    "cx_val_sc = X_scaler.transform(cX_val)\n",
    "cx_test_sc = X_scaler.transform(cX_test)\n",
    "\n",
    "cx_train_sc.shape"
   ]
  },
  {
   "cell_type": "code",
   "execution_count": null,
   "metadata": {},
   "outputs": [],
   "source": [
    "import tensorflow as tf\n",
    "\n",
    "from tensorflow import keras\n",
    "from tensorflow.keras import layers\n",
    "from keras.models import Sequential\n",
    "from keras.layers import Dense, Dropout\n",
    "from keras.optimizers import Adam, SGD, RMSprop, Adagrad\n",
    "#adagrad = 0.02, sgd = \n",
    "lr = 0.06\n",
    "p = 0.2\n",
    "model = Sequential()\n",
    "#found 16 to be optimal\n",
    "model.add(Dense(units=16, input_dim=29, kernel_initializer='normal', activation='relu'))\n",
    "# p = 0.2 optimal\n",
    "model.add(Dropout(p))\n",
    "model.add(Dense(units=64, kernel_initializer='normal', activation='relu'))\n",
    "# model.add(Dropout(p))\n",
    "# model.add(Dense(units=16, kernel_initializer='normal', activation='relu'))\n",
    "model.add(Dense(1, activation='linear', kernel_initializer='normal'))\n",
    "print(model.summary())\n",
    "from tensorflow.keras.callbacks import EarlyStopping\n",
    "callback = EarlyStopping(monitor = 'val_msle'\n",
    "                        , patience = 3\n",
    "                        , verbose = 1\n",
    "                        , mode = 'auto'\n",
    "                        , min_delta = 0.001)\n",
    "\n",
    "num_epochs = 100\n",
    "\n",
    "#larger --> increase stockholm score\n",
    "#smaller --> increase copen score\n",
    "# too large / too small, predictions converge to same value\n",
    "b_size = 32\n",
    "#optimizers: adam, sgd, \n",
    "model.compile(loss=\"msle\", optimizer=SGD(learning_rate=lr), metrics = ['msle'])\n",
    "\n",
    "history = model.fit(cx_train_sc, cy_train,\n",
    "                   batch_size = b_size,\n",
    "                   epochs = num_epochs,\n",
    "                   verbose = 1,\n",
    "                   validation_data=(cx_val_sc, cy_val),\n",
    "                   callbacks = [callback])\n",
    "\n",
    "# def getAccuracy(x,y):\n",
    "#     predictions = model.predict(x)\n",
    "#     #APE (absolute percent error)\n",
    "#     APE = 100*(abs(y-predictions)/y)\n",
    "#     accuracy = 100-np.mean(APE)\n",
    "#     return accuracy\n",
    "\n",
    "\n",
    "# accuracy = getAccuracy(cx_test_sc, cy_test)\n",
    "# print('Accuracy of model on test set: ', accuracy)\n",
    "\n",
    "# sx, sY = np.asarray(sX).astype('float32'), np.asarray(sy).astype('float32')\n",
    "# acc_stock = getAccuracy(sx,sY)\n",
    "# print('Model evaluated on Stockholm: ', acc_stock)\n",
    "\n",
    "import matplotlib.pyplot as plt\n",
    "plt.plot(history.history['msle'])\n",
    "plt.plot(history.history['val_msle'])\n",
    "plt.ylabel('msle')\n",
    "plt.xlabel('epoch')\n",
    "plt.title('Neural Network')\n",
    "plt.legend(['train', 'validation'])\n",
    "plt.show()"
   ]
  },
  {
   "cell_type": "code",
   "execution_count": null,
   "metadata": {},
   "outputs": [],
   "source": [
    "c_pred = model.predict(cx_test_sc)\n",
    "print(\"Copenhagen test set\")\n",
    "plotPredVsReal(cy_test, c_pred, 750)\n",
    "print(\"Test r2:\", round(r2_score(cy_test, c_pred),4))"
   ]
  },
  {
   "cell_type": "code",
   "execution_count": null,
   "metadata": {},
   "outputs": [],
   "source": [
    "sx, sY = np.asarray(sX).astype('float32'), np.asarray(sy).astype('float32')\n",
    "sx_sc = X_scaler.transform(sx)\n",
    "s_pred = model.predict(sx_sc)\n",
    "print(\"Stockholm evaluated on copenhagen test set\")\n",
    "plotPredVsReal(sY, s_pred, 750)\n",
    "print(\"Test r2:\", round(r2_score(sY, s_pred),4))"
   ]
  },
  {
   "cell_type": "code",
   "execution_count": null,
   "metadata": {},
   "outputs": [],
   "source": [
    "import matplotlib.pyplot as plt\n",
    "plt.plot(history.history['msle'])\n",
    "plt.plot(history.history['val_msle'])\n",
    "plt.ylabel('msle')\n",
    "plt.xlabel('epoch')\n",
    "plt.title('Neural Network')\n",
    "plt.legend(['train', 'validation'])\n",
    "plt.show()"
   ]
  }
 ],
 "metadata": {
  "language_info": {
   "name": "python"
  },
  "orig_nbformat": 4
 },
 "nbformat": 4,
 "nbformat_minor": 2
}
