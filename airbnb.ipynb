{
 "cells": [
  {
   "cell_type": "markdown",
   "metadata": {},
   "source": [
    "**We fetch the data**\n",
    "\n",
    "We select one city to start with"
   ]
  },
  {
   "cell_type": "code",
   "execution_count": 242,
   "metadata": {},
   "outputs": [
    {
     "data": {
      "text/plain": [
       "(11817, 9)"
      ]
     },
     "execution_count": 242,
     "metadata": {},
     "output_type": "execute_result"
    }
   ],
   "source": [
    "import numpy as np\n",
    "from sklearn.model_selection import train_test_split\n",
    "import pandas as pd\n",
    "data = pd.read_csv('listings_copenhagen.csv.gz', nrows=13815, compression='gzip')\n",
    "\n",
    "data = data[['accommodates','bedrooms', 'beds', 'review_scores_rating','review_scores_location','review_scores_value','property_type','room_type','price']]\n",
    "data = data.dropna()\n",
    "data.shape"
   ]
  },
  {
   "cell_type": "markdown",
   "metadata": {},
   "source": [
    "**We define a function to change string features to an integer**"
   ]
  },
  {
   "cell_type": "code",
   "execution_count": 243,
   "metadata": {},
   "outputs": [],
   "source": [
    "def string_features_to_num(array):\n",
    "    dictOfWords = { i : np.unique(array)[i] for i in range(0, len(np.unique(array)) ) }\n",
    "    dictOfWords = {v: k for k, v in dictOfWords.items()}\n",
    "\n",
    "    values = np.zeros(len(array))\n",
    "    for i in range(len(array)):\n",
    "        values[i] = dictOfWords.get(array[i])\n",
    "        \n",
    "    return values"
   ]
  },
  {
   "cell_type": "markdown",
   "metadata": {},
   "source": [
    "**Data split into features and target**\n",
    "\n",
    "We also change the target from a string to a float. "
   ]
  },
  {
   "cell_type": "code",
   "execution_count": 244,
   "metadata": {},
   "outputs": [],
   "source": [
    "import re\n",
    "\n",
    "datanp = np.array(data)\n",
    "X = datanp[:,:-1]\n",
    "y = datanp[:,-1]\n",
    "\n",
    "for i in range(len(y)):\n",
    "    y[i] = float(re.sub(\",\", \"\", (y[i][1:])))\n",
    "\n",
    "X[:, -2] = string_features_to_num(X[:, -2])\n",
    "X[:, -1] = string_features_to_num(X[:, -1])"
   ]
  },
  {
   "cell_type": "markdown",
   "metadata": {},
   "source": [
    "**Data split into train/val/test**"
   ]
  },
  {
   "cell_type": "code",
   "execution_count": 245,
   "metadata": {},
   "outputs": [],
   "source": [
    "X_trainval, X_test, y_trainval, y_test = train_test_split(X, y, test_size=0.20, random_state=42)\n",
    "X_train, X_val, y_train, y_val = train_test_split(X_trainval, y_trainval, test_size=0.25, random_state=42)"
   ]
  },
  {
   "cell_type": "markdown",
   "metadata": {},
   "source": [
    "**Models imported**"
   ]
  },
  {
   "cell_type": "code",
   "execution_count": 246,
   "metadata": {},
   "outputs": [],
   "source": [
    "from sklearn.linear_model import LinearRegression\n",
    "from sklearn.svm import SVR\n",
    "\n",
    "linear_model = LinearRegression()\n",
    "svr_model = SVR(C=60, epsilon=0.95)"
   ]
  },
  {
   "cell_type": "markdown",
   "metadata": {},
   "source": [
    "**Models fit and scored**\n",
    "\n",
    "We fit the models on the training set and test with the linear regression. \n",
    "\n",
    "We perform a small gridsearch for the C and epsilon parameters for the SVR"
   ]
  },
  {
   "cell_type": "code",
   "execution_count": 247,
   "metadata": {},
   "outputs": [
    {
     "name": "stdout",
     "output_type": "stream",
     "text": [
      "0.1000303501137122 0.11155346505636221 0.05469071823857308\n"
     ]
    }
   ],
   "source": [
    "linear_model.fit(X_train, y_train)\n",
    "linear_train_score = linear_model.score(X_train, y_train)\n",
    "linear_val_score = linear_model.score(X_val,y_val)\n",
    "linear_test_score = linear_model.score(X_test,y_test)\n",
    "\n",
    "\n",
    "\n",
    "\n",
    "print(linear_train_score, linear_test_score, linear_val_score)"
   ]
  },
  {
   "cell_type": "code",
   "execution_count": 248,
   "metadata": {},
   "outputs": [
    {
     "name": "stdout",
     "output_type": "stream",
     "text": [
      "0.058534799338312404 20000 500\n",
      "0.10821789769757317\n"
     ]
    }
   ],
   "source": [
    "Cs = [1000,10000,20000]\n",
    "epsilons = [500,1000,2000,5000,10000]\n",
    "\n",
    "best_val = 0\n",
    "best_C = 0\n",
    "best_eps = 0\n",
    "best_model = SVR()\n",
    "for C in Cs: \n",
    "    for epsilon in epsilons:\n",
    "        svr_model = SVR(C=C, epsilon=epsilon)\n",
    "        svr_model.fit(X_train, y_train)\n",
    "        svr_val_score = svr_model.score(X_val, y_val)\n",
    "        if(svr_val_score>best_val):\n",
    "            best_val = svr_val_score\n",
    "            best_C = C\n",
    "            best_eps = epsilon\n",
    "            best_model = svr_model\n",
    "print(best_val, best_C, best_eps)\n",
    "\n",
    "svr_test_score = best_model.score(X_test, y_test)\n",
    "\n",
    "print(svr_test_score)"
   ]
  }
 ],
 "metadata": {
  "kernelspec": {
   "display_name": "Python 3.10.6 ('base')",
   "language": "python",
   "name": "python3"
  },
  "language_info": {
   "codemirror_mode": {
    "name": "ipython",
    "version": 3
   },
   "file_extension": ".py",
   "mimetype": "text/x-python",
   "name": "python",
   "nbconvert_exporter": "python",
   "pygments_lexer": "ipython3",
   "version": "3.10.6"
  },
  "orig_nbformat": 4,
  "vscode": {
   "interpreter": {
    "hash": "6a1beba0eec8c8900e76e1a0c55ed52e22896ea47aa24a217547588df6ec7114"
   }
  }
 },
 "nbformat": 4,
 "nbformat_minor": 2
}
