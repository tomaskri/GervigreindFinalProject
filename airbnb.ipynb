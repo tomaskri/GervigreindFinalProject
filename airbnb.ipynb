{
 "cells": [
  {
   "cell_type": "markdown",
   "metadata": {},
   "source": [
    "**We fetch the data**\n",
    "\n",
    "We select one city to start with"
   ]
  },
  {
   "cell_type": "code",
   "execution_count": 1662,
   "metadata": {},
   "outputs": [
    {
     "data": {
      "text/plain": [
       "(2974, 16)"
      ]
     },
     "execution_count": 1662,
     "metadata": {},
     "output_type": "execute_result"
    }
   ],
   "source": [
    "import numpy as np\n",
    "from sklearn.model_selection import train_test_split\n",
    "import pandas as pd\n",
    "data = pd.read_csv('listings_stockholm.csv.gz', nrows=13815, compression='gzip')\n",
    "\n",
    "data = data[['accommodates','bathrooms_text','bedrooms', 'beds', 'review_scores_rating','review_scores_location','review_scores_value','reviews_per_month','number_of_reviews','calculated_host_listings_count','minimum_nights','availability_90','amenities','property_type','room_type','price']]\n",
    "\n",
    "# data = data[['accommodates','bedrooms','price']]\n",
    "data = data.dropna()\n",
    "data.shape\n",
    "\n"
   ]
  },
  {
   "cell_type": "markdown",
   "metadata": {},
   "source": [
    "**We define a function to change string features to an integer**"
   ]
  },
  {
   "cell_type": "code",
   "execution_count": 1663,
   "metadata": {},
   "outputs": [],
   "source": [
    "def string_features_to_num(array):\n",
    "    dictOfWords = { i : np.unique(array)[i] for i in range(0, len(np.unique(array)) ) }\n",
    "    dictOfWords = {v: k for k, v in dictOfWords.items()}\n",
    "    \n",
    "    values = np.zeros(len(array))\n",
    "    for i in range(len(array)):\n",
    "        values[i] = dictOfWords.get(array[i])\n",
    "        \n",
    "    return values, dictOfWords"
   ]
  },
  {
   "cell_type": "code",
   "execution_count": 1664,
   "metadata": {},
   "outputs": [],
   "source": [
    "def selectPropertyType(type, X, y):\n",
    "    xlist = []\n",
    "    ylist = []\n",
    "    for i in range(X.shape[0]):\n",
    "        if(X[i,-2] == type):\n",
    "            xlist.append(X[i,:])\n",
    "            ylist.append(y[i])\n",
    "    return np.array(xlist), np.array(ylist)"
   ]
  },
  {
   "cell_type": "code",
   "execution_count": 1665,
   "metadata": {},
   "outputs": [],
   "source": [
    "def oneHotEncodingPropertyType(type, X):\n",
    "    isType = np.zeros(X.shape[0])\n",
    "    for i in range(X.shape[0]):\n",
    "        if(X[i,-2] == type):\n",
    "            isType[i] = 1.0\n",
    "    return np.hstack((X, isType.reshape(-1,1)))"
   ]
  },
  {
   "cell_type": "markdown",
   "metadata": {},
   "source": [
    "**Data split into features and target**\n",
    "\n",
    "We also change the target from a string to a float. "
   ]
  },
  {
   "cell_type": "code",
   "execution_count": 1666,
   "metadata": {},
   "outputs": [
    {
     "name": "stdout",
     "output_type": "stream",
     "text": [
      "{'Boat': 0, 'Entire bungalow': 1, 'Entire cabin': 2, 'Entire condo': 3, 'Entire cottage': 4, 'Entire guest suite': 5, 'Entire guesthouse': 6, 'Entire home': 7, 'Entire in-law': 8, 'Entire loft': 9, 'Entire place': 10, 'Entire rental unit': 11, 'Entire serviced apartment': 12, 'Entire townhouse': 13, 'Entire vacation home': 14, 'Entire villa': 15, 'Private room': 16, 'Private room in bed and breakfast': 17, 'Private room in boat': 18, 'Private room in casa particular': 19, 'Private room in condo': 20, 'Private room in guest suite': 21, 'Private room in guesthouse': 22, 'Private room in home': 23, 'Private room in hostel': 24, 'Private room in houseboat': 25, 'Private room in loft': 26, 'Private room in rental unit': 27, 'Private room in serviced apartment': 28, 'Private room in townhouse': 29, 'Private room in vacation home': 30, 'Private room in villa': 31, 'Room in aparthotel': 32, 'Room in bed and breakfast': 33, 'Room in boutique hotel': 34, 'Room in hostel': 35, 'Room in hotel': 36, 'Room in serviced apartment': 37, 'Shared room in bed and breakfast': 38, 'Shared room in casa particular': 39, 'Shared room in condo': 40, 'Shared room in guesthouse': 41, 'Shared room in home': 42, 'Shared room in hostel': 43, 'Shared room in rental unit': 44, 'Shared room in villa': 45, 'Tiny home': 46}\n",
      "[(0, 3), (1, 2), (2, 12), (3, 420), (4, 7), (5, 22), (6, 23), (7, 231), (8, 1), (9, 49), (10, 1), (11, 1256), (12, 22), (13, 78), (14, 10), (15, 134), (16, 1), (17, 26), (18, 2), (19, 3), (20, 58), (21, 8), (22, 3), (23, 35), (24, 10), (25, 2), (26, 7), (27, 405), (28, 1), (29, 18), (30, 1), (31, 18), (32, 4), (33, 1), (34, 5), (35, 8), (36, 27), (37, 3), (38, 2), (39, 1), (40, 1), (41, 2), (42, 1), (43, 10), (44, 12), (45, 1), (46, 17)]\n"
     ]
    },
    {
     "data": {
      "text/plain": [
       "(1256, 13)"
      ]
     },
     "execution_count": 1666,
     "metadata": {},
     "output_type": "execute_result"
    }
   ],
   "source": [
    "import re\n",
    "\n",
    "datanp = np.array(data)\n",
    "X = datanp[:,:-1]\n",
    "y = datanp[:,-1]\n",
    "\n",
    "bathroomErr = []\n",
    "for i in range(X.shape[0]):\n",
    "    try:\n",
    "        X[i,1] = float(X[i,1].split()[0])\n",
    "    except ValueError:\n",
    "        bathroomErr.append(i)\n",
    "bathroomErr = np.array(bathroomErr)\n",
    "X = np.delete(X, bathroomErr, axis=0)\n",
    "y = np.delete(y, bathroomErr)\n",
    "\n",
    "for i in range(len(y)):\n",
    "    y[i] = float(re.sub(\",\", \"\", (y[i][1:])))\n",
    "\n",
    "\n",
    "\n",
    "X[:, -2], propertytype_dict = string_features_to_num(X[:, -2])\n",
    "X[:, -1], roomtype_dict = string_features_to_num(X[:, -1])\n",
    "\n",
    "print(propertytype_dict)\n",
    "print(list(enumerate(np.bincount(np.array(X[:, -2],dtype='int64')))))\n",
    "\n",
    "X, y = selectPropertyType(propertytype_dict.get('Entire rental unit'), X, y)\n",
    "\n",
    "X = X[:,:X.shape[1]-2]\n",
    "\n",
    "# X = oneHotEncodingPropertyType(propertytype_dict.get('Entire rental unit'), X)\n",
    "# X = oneHotEncodingPropertyType(propertytype_dict.get('Entire condo'), X)\n",
    "# X = oneHotEncodingPropertyType(propertytype_dict.get('Private room in rental unit'), X)\n",
    "\n",
    "X.shape\n"
   ]
  },
  {
   "cell_type": "code",
   "execution_count": 1667,
   "metadata": {},
   "outputs": [],
   "source": [
    "import ast \n",
    "\n",
    "def amenitiesOneHot(X, amenityName):\n",
    "    amenities = []\n",
    "    for i in range(X.shape[0]):\n",
    "        amenities.append(ast.literal_eval(X[i,-1]))\n",
    "\n",
    "    amenity = np.zeros(X.shape[0])\n",
    "    for i in range(X.shape[0]):\n",
    "        for j in range(len(amenities[i])):\n",
    "            if(amenities[i][j]==amenityName):\n",
    "                amenity[i] = 1\n",
    "    return amenity"
   ]
  },
  {
   "cell_type": "markdown",
   "metadata": {},
   "source": [
    "**One Hot encoded features added**"
   ]
  },
  {
   "cell_type": "code",
   "execution_count": 1668,
   "metadata": {},
   "outputs": [
    {
     "data": {
      "text/plain": [
       "(1256, 15)"
      ]
     },
     "execution_count": 1668,
     "metadata": {},
     "output_type": "execute_result"
    }
   ],
   "source": [
    "# np.sum(amenitiesOneHot(X, 'Private patio or balcony'))/X.shape[0]\n",
    "\n",
    "\n",
    "patio = amenitiesOneHot(X, 'Private patio or balcony')\n",
    "tv = amenitiesOneHot(X, 'TV')\n",
    "wifi = amenitiesOneHot(X, 'Wifi')\n",
    "onehot = np.hstack((tv.reshape(-1,1), patio.reshape(-1,1)))\n",
    "onehot = np.hstack((onehot, wifi.reshape(-1,1)))\n",
    "\n",
    "X = X[:,:-1]\n",
    "X = np.hstack((X, onehot))\n",
    "X.shape"
   ]
  },
  {
   "cell_type": "markdown",
   "metadata": {},
   "source": [
    "**Data split into train/val/test**"
   ]
  },
  {
   "cell_type": "code",
   "execution_count": 1669,
   "metadata": {},
   "outputs": [],
   "source": [
    "X_trainval, X_test, y_trainval, y_test = train_test_split(X, y, test_size=0.20, random_state=42)\n",
    "X_train, X_val, y_train, y_val = train_test_split(X_trainval, y_trainval, test_size=0.25, random_state=42)"
   ]
  },
  {
   "cell_type": "markdown",
   "metadata": {},
   "source": [
    "**Models imported**"
   ]
  },
  {
   "cell_type": "code",
   "execution_count": 1670,
   "metadata": {},
   "outputs": [],
   "source": [
    "from sklearn.linear_model import LinearRegression\n",
    "from sklearn.svm import SVR\n",
    "\n",
    "linear_model = LinearRegression()\n",
    "svr_model = SVR(C=60, epsilon=0.95)"
   ]
  },
  {
   "cell_type": "markdown",
   "metadata": {},
   "source": [
    "**Models fit and scored**\n",
    "\n",
    "We fit the models on the training set and test with the linear regression. "
   ]
  },
  {
   "cell_type": "code",
   "execution_count": 1671,
   "metadata": {},
   "outputs": [
    {
     "name": "stdout",
     "output_type": "stream",
     "text": [
      "Training score:  0.31145369358920694\n",
      "Test score:  0.24615286464967467\n",
      "Validation score:  0.21955217205770783\n"
     ]
    }
   ],
   "source": [
    "linear_model.fit(X_train, y_train)\n",
    "linear_train_score = linear_model.score(X_train, y_train)\n",
    "linear_val_score = linear_model.score(X_val,y_val)\n",
    "linear_test_score = linear_model.score(X_test,y_test)\n",
    "\n",
    "print(\"Training score: \", linear_train_score)\n",
    "print(\"Test score: \", linear_test_score)\n",
    "print(\"Validation score: \", linear_val_score)"
   ]
  },
  {
   "cell_type": "code",
   "execution_count": 1672,
   "metadata": {},
   "outputs": [],
   "source": [
    "from sklearn.preprocessing import StandardScaler\n",
    "\n",
    "scaler = StandardScaler()\n",
    "X_train = scaler.fit_transform(X_train)\n",
    "X_test = scaler.transform(X_test)\n",
    "X_val = scaler.transform(X_val)\n",
    "\n"
   ]
  },
  {
   "cell_type": "code",
   "execution_count": 1673,
   "metadata": {},
   "outputs": [
    {
     "name": "stdout",
     "output_type": "stream",
     "text": [
      "Training score:  0.3853238704539046\n",
      "Test score:  0.3853238704539046\n",
      "Validation score:  0.3853238704539046\n"
     ]
    }
   ],
   "source": [
    "from sklearn.svm import NuSVR\n",
    "\n",
    "svr_model = NuSVR(C=600, nu=0.3)\n",
    "svr_model.fit(X_train, y_train)\n",
    "svr_train_score = svr_model.score(X_test, y_test)\n",
    "svr_test_score = svr_model.score(X_test, y_test)\n",
    "svr_val_score = svr_model.score(X_test, y_test)\n",
    "print(\"Training score: \", svr_train_score)\n",
    "print(\"Test score: \", svr_test_score)\n",
    "print(\"Validation score: \", svr_val_score)\n"
   ]
  },
  {
   "cell_type": "code",
   "execution_count": 1674,
   "metadata": {},
   "outputs": [
    {
     "name": "stdout",
     "output_type": "stream",
     "text": [
      "Training score:  0.27582564169812096\n",
      "Test score:  0.27582564169812096\n",
      "Validation score:  0.27582564169812096\n"
     ]
    }
   ],
   "source": [
    "from sklearn.ensemble import RandomForestRegressor\n",
    "\n",
    "regr_model = RandomForestRegressor(max_depth=6, random_state=0, n_estimators=100)\n",
    "regr_model.fit(X_train, y_train)\n",
    "\n",
    "regr_train_score = regr_model.score(X_test, y_test)\n",
    "regr_test_score = regr_model.score(X_test, y_test)\n",
    "regr_val_score = regr_model.score(X_test, y_test)\n",
    "\n",
    "print(\"Training score: \", regr_train_score)\n",
    "print(\"Test score: \", regr_test_score)\n",
    "print(\"Validation score: \", regr_val_score)\n"
   ]
  },
  {
   "cell_type": "code",
   "execution_count": 1675,
   "metadata": {},
   "outputs": [
    {
     "name": "stdout",
     "output_type": "stream",
     "text": [
      "Training score:  0.24927434432678686\n",
      "Test score:  0.24927434432678686\n",
      "Validation score:  0.24927434432678686\n"
     ]
    }
   ],
   "source": [
    "from sklearn.linear_model import Ridge\n",
    "\n",
    "\n",
    "clf_model = Ridge(alpha=5)\n",
    "clf_model.fit(X_train, y_train)\n",
    "\n",
    "clf_train_score = clf_model.score(X_test, y_test)\n",
    "clf_test_score = clf_model.score(X_test, y_test)\n",
    "clf_val_score = clf_model.score(X_test, y_test)\n",
    "\n",
    "print(\"Training score: \", clf_train_score)\n",
    "print(\"Test score: \", clf_test_score)\n",
    "print(\"Validation score: \", clf_val_score)"
   ]
  },
  {
   "cell_type": "code",
   "execution_count": 1676,
   "metadata": {},
   "outputs": [
    {
     "name": "stdout",
     "output_type": "stream",
     "text": [
      "\n",
      "Training r2: 0.9991\n",
      "Validation r2: -0.1013\n"
     ]
    },
    {
     "data": {
      "image/png": "[encoded data removed]",
      "text/plain": [
       "<Figure size 800x1000 with 1 Axes>"
      ]
     },
     "metadata": {},
     "output_type": "display_data"
    }
   ],
   "source": [
    "import math\n",
    "import pandas as pd\n",
    "import matplotlib.pyplot as plt\n",
    "from sklearn.preprocessing import StandardScaler\n",
    "from sklearn.metrics import r2_score\n",
    "\n",
    "import xgboost as xgb\n",
    "\n",
    "\n",
    "\n",
    "X_train = pd.DataFrame(X_train, dtype='float')\n",
    "X_test = pd.DataFrame(X_test, dtype='float')\n",
    "y_train = pd.DataFrame(y_train, dtype='float')\n",
    "y_test = pd.DataFrame(y_test, dtype='float')\n",
    "\n",
    "# Fitting the model\n",
    "# learning_rate=0.12, max_depth=4, n_estimators=20\n",
    "xgb_reg = xgb.XGBRegressor()\n",
    "xgb_reg.fit(X_train, y_train)\n",
    "training_preds_xgb_reg = xgb_reg.predict(X_train)\n",
    "val_preds_xgb_reg = xgb_reg.predict(X_test)\n",
    "\n",
    "# Printing the results\n",
    "\n",
    "print(\"\\nTraining r2:\", round(r2_score(y_train, training_preds_xgb_reg),4))\n",
    "print(\"Validation r2:\", round(r2_score(y_test, val_preds_xgb_reg),4))\n",
    "\n",
    "# Producing a dataframe of feature importances\n",
    "ft_weights_xgb_reg = pd.DataFrame(xgb_reg.feature_importances_, columns=['weight'], index=X_train.columns)\n",
    "ft_weights_xgb_reg.sort_values('weight', inplace=True)\n",
    "\n",
    "# Plotting feature importances\n",
    "plt.figure(figsize=(8,10))\n",
    "plt.barh(ft_weights_xgb_reg.index, ft_weights_xgb_reg.weight, align='center') \n",
    "plt.title(\"Feature importances in the XGBoost model\", fontsize=14)\n",
    "plt.xlabel(\"Feature importance\")\n",
    "plt.margins(y=0.01)\n",
    "plt.show()"
   ]
  },
  {
   "cell_type": "code",
   "execution_count": 1677,
   "metadata": {},
   "outputs": [],
   "source": [
    "# import math\n",
    "# import pandas as pd\n",
    "# import tensorflow as tf\n",
    "# import matplotlib.pyplot as plt\n",
    "# from tensorflow.keras import Model\n",
    "# from tensorflow.keras import Sequential\n",
    "# from tensorflow.keras.optimizers import Adam\n",
    "# from sklearn.preprocessing import StandardScaler\n",
    "# from tensorflow.keras.layers import Dense, Dropout\n",
    "# from tensorflow.keras.losses import MeanSquaredLogarithmicError\n",
    "# from sklearn.metrics import r2_score\n",
    "\n",
    "# X_train = pd.DataFrame(X_train)\n",
    "# X_test = pd.DataFrame(X_test)\n",
    "# y_train = pd.DataFrame(y_train)\n",
    "# y_test = pd.DataFrame(y_test)\n",
    "\n",
    "# def scale_datasets(x_train, x_test):\n",
    "#     \"\"\"\n",
    "#     Standard Scale test and train data\n",
    "#     Z - Score normalization\n",
    "#     \"\"\"\n",
    "#     standard_scaler = StandardScaler()\n",
    "#     x_train_scaled = pd.DataFrame(\n",
    "#         standard_scaler.fit_transform(x_train),\n",
    "#         columns=x_train.columns\n",
    "#     )\n",
    "#     x_test_scaled = pd.DataFrame(\n",
    "#         standard_scaler.transform(x_test),\n",
    "#         columns = x_test.columns\n",
    "#     )\n",
    "#     return x_train_scaled, x_test_scaled\n",
    "# x_train_scaled, x_test_scaled = scale_datasets(X_train, X_test)"
   ]
  },
  {
   "cell_type": "code",
   "execution_count": 1678,
   "metadata": {},
   "outputs": [],
   "source": [
    "# hidden_units1 = 160\n",
    "# hidden_units2 = 480\n",
    "# hidden_units3 = 256\n",
    "# learning_rate = 5e-3\n",
    "# # Creating model using the Sequential in tensorflow\n",
    "# def build_model_using_sequential():\n",
    "#   model = Sequential([\n",
    "#     Dense(hidden_units1, kernel_initializer='normal', activation='relu'),\n",
    "#     Dropout(0.2),\n",
    "#     Dense(hidden_units2, kernel_initializer='normal', activation='relu'),\n",
    "#     Dropout(0.2),\n",
    "#     Dense(hidden_units3, kernel_initializer='normal', activation='relu'),\n",
    "#     Dense(1, kernel_initializer='normal', activation='linear')\n",
    "#   ])\n",
    "#   return model\n",
    "# # build the model\n",
    "# model = build_model_using_sequential()"
   ]
  },
  {
   "cell_type": "code",
   "execution_count": 1679,
   "metadata": {},
   "outputs": [],
   "source": [
    "# # loss function\n",
    "# msle = MeanSquaredLogarithmicError()\n",
    "# model.compile(\n",
    "#     loss=msle, \n",
    "#     optimizer=Adam(learning_rate=learning_rate), \n",
    "#     metrics=[msle]\n",
    "# )\n",
    "# # train the model\n",
    "# history = model.fit(\n",
    "#     x_train_scaled.values, \n",
    "#     np.asarray(y_train.values).astype('float32'), \n",
    "#     epochs=20, \n",
    "#     batch_size=8,\n",
    "#     validation_split=0.2\n",
    "# )"
   ]
  },
  {
   "cell_type": "code",
   "execution_count": 1680,
   "metadata": {},
   "outputs": [],
   "source": [
    "# def plot_history(history, key):\n",
    "#   plt.plot(history.history[key])\n",
    "#   plt.plot(history.history['val_'+key])\n",
    "#   plt.xlabel(\"Epochs\")\n",
    "#   plt.ylabel(key)\n",
    "#   plt.legend([key, 'val_'+key])\n",
    "#   plt.show()\n",
    "# # Plot the history\n",
    "# plot_history(history, 'mean_squared_logarithmic_error')\n",
    "\n",
    "# X_test['prediction'] = model.predict(x_test_scaled)\n",
    "\n",
    "# r2_score(y_test, model.predict(x_test_scaled))\n"
   ]
  }
 ],
 "metadata": {
  "kernelspec": {
   "display_name": "Python 3.10.6 ('base')",
   "language": "python",
   "name": "python3"
  },
  "language_info": {
   "codemirror_mode": {
    "name": "ipython",
    "version": 3
   },
   "file_extension": ".py",
   "mimetype": "text/x-python",
   "name": "python",
   "nbconvert_exporter": "python",
   "pygments_lexer": "ipython3",
   "version": "3.10.6"
  },
  "orig_nbformat": 4,
  "vscode": {
   "interpreter": {
    "hash": "6a1beba0eec8c8900e76e1a0c55ed52e22896ea47aa24a217547588df6ec7114"
   }
  }
 },
 "nbformat": 4,
 "nbformat_minor": 2
}
