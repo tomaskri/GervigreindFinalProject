{
 "cells": [
  {
   "cell_type": "markdown",
   "metadata": {},
   "source": [
    "**We fetch the data**\n",
    "\n",
    "We select one city to start with"
   ]
  },
  {
   "cell_type": "code",
   "execution_count": 233,
   "metadata": {},
   "outputs": [
    {
     "data": {
      "text/plain": [
       "(3667, 3)"
      ]
     },
     "execution_count": 233,
     "metadata": {},
     "output_type": "execute_result"
    }
   ],
   "source": [
    "import numpy as np\n",
    "from sklearn.model_selection import train_test_split\n",
    "import pandas as pd\n",
    "data = pd.read_csv('listings_stockholm.csv.gz', nrows=13815, compression='gzip')\n",
    "\n",
    "data = data[['accommodates','bedrooms', 'beds', 'review_scores_rating','review_scores_location','review_scores_value','reviews_per_month','property_type','room_type','price']]\n",
    "data = data[['accommodates','bedrooms','price']]\n",
    "data = data.dropna()\n",
    "data.shape\n"
   ]
  },
  {
   "cell_type": "markdown",
   "metadata": {},
   "source": [
    "**We define a function to change string features to an integer**"
   ]
  },
  {
   "cell_type": "code",
   "execution_count": 234,
   "metadata": {},
   "outputs": [],
   "source": [
    "def string_features_to_num(array):\n",
    "    dictOfWords = { i : np.unique(array)[i] for i in range(0, len(np.unique(array)) ) }\n",
    "    dictOfWords = {v: k for k, v in dictOfWords.items()}\n",
    "\n",
    "    values = np.zeros(len(array))\n",
    "    for i in range(len(array)):\n",
    "        values[i] = dictOfWords.get(array[i])\n",
    "        \n",
    "    return values"
   ]
  },
  {
   "cell_type": "markdown",
   "metadata": {},
   "source": [
    "**Data split into features and target**\n",
    "\n",
    "We also change the target from a string to a float. "
   ]
  },
  {
   "cell_type": "code",
   "execution_count": 235,
   "metadata": {},
   "outputs": [],
   "source": [
    "import re\n",
    "\n",
    "datanp = np.array(data)\n",
    "X = datanp[:,:-1]\n",
    "y = datanp[:,-1]\n",
    "\n",
    "for i in range(len(y)):\n",
    "    y[i] = float(re.sub(\",\", \"\", (y[i][1:])))\n",
    "\n",
    "# X[:, -2] = string_features_to_num(X[:, -2])\n",
    "# X[:, -1] = string_features_to_num(X[:, -1])"
   ]
  },
  {
   "cell_type": "markdown",
   "metadata": {},
   "source": [
    "**Data split into train/val/test**"
   ]
  },
  {
   "cell_type": "code",
   "execution_count": 236,
   "metadata": {},
   "outputs": [],
   "source": [
    "X_trainval, X_test, y_trainval, y_test = train_test_split(X, y, test_size=0.20, random_state=42)\n",
    "X_train, X_val, y_train, y_val = train_test_split(X_trainval, y_trainval, test_size=0.25, random_state=42)"
   ]
  },
  {
   "cell_type": "markdown",
   "metadata": {},
   "source": [
    "**Models imported**"
   ]
  },
  {
   "cell_type": "code",
   "execution_count": 237,
   "metadata": {},
   "outputs": [],
   "source": [
    "from sklearn.linear_model import LinearRegression\n",
    "from sklearn.svm import SVR\n",
    "\n",
    "linear_model = LinearRegression()\n",
    "svr_model = SVR(C=60, epsilon=0.95)"
   ]
  },
  {
   "cell_type": "markdown",
   "metadata": {},
   "source": [
    "**Models fit and scored**\n",
    "\n",
    "We fit the models on the training set and test with the linear regression. "
   ]
  },
  {
   "cell_type": "code",
   "execution_count": 238,
   "metadata": {},
   "outputs": [
    {
     "name": "stdout",
     "output_type": "stream",
     "text": [
      "0.3089322804811102 0.3410922709327532 0.34630907368440056\n"
     ]
    }
   ],
   "source": [
    "linear_model.fit(X_train, y_train)\n",
    "linear_train_score = linear_model.score(X_train, y_train)\n",
    "linear_val_score = linear_model.score(X_val,y_val)\n",
    "linear_test_score = linear_model.score(X_test,y_test)\n",
    "\n",
    "\n",
    "\n",
    "\n",
    "print(linear_train_score, linear_test_score, linear_val_score)"
   ]
  },
  {
   "cell_type": "code",
   "execution_count": 239,
   "metadata": {},
   "outputs": [],
   "source": [
    "from sklearn.preprocessing import StandardScaler\n",
    "\n",
    "scaler = StandardScaler()\n",
    "X_train = scaler.fit_transform(X_train)\n",
    "X_test = scaler.transform(X_test)\n",
    "X_val = scaler.transform(X_val)\n",
    "\n"
   ]
  },
  {
   "cell_type": "code",
   "execution_count": 240,
   "metadata": {},
   "outputs": [
    {
     "name": "stdout",
     "output_type": "stream",
     "text": [
      "0.2702056881497975\n"
     ]
    }
   ],
   "source": [
    "from sklearn.svm import NuSVR\n",
    "\n",
    "svr_model = NuSVR(C=600, nu=0.3)\n",
    "svr_model.fit(X_train, y_train)\n",
    "svr_test_score = svr_model.score(X_test, y_test)\n",
    "print(svr_test_score)"
   ]
  },
  {
   "cell_type": "code",
   "execution_count": 241,
   "metadata": {},
   "outputs": [
    {
     "name": "stdout",
     "output_type": "stream",
     "text": [
      "0.4281140098792079\n"
     ]
    }
   ],
   "source": [
    "from sklearn.ensemble import RandomForestRegressor\n",
    "\n",
    "regr = RandomForestRegressor(max_depth=6, random_state=0, n_estimators=100)\n",
    "regr.fit(X_train, y_train)\n",
    "\n",
    "print(regr.score(X_test,y_test))\n"
   ]
  },
  {
   "cell_type": "code",
   "execution_count": 242,
   "metadata": {},
   "outputs": [
    {
     "name": "stdout",
     "output_type": "stream",
     "text": [
      "0.3412265749678429\n"
     ]
    }
   ],
   "source": [
    "from sklearn.linear_model import Ridge\n",
    "\n",
    "\n",
    "clf = Ridge(alpha=5)\n",
    "clf.fit(X_train, y_train)\n",
    "\n",
    "print(clf.score(X_test,y_test))"
   ]
  },
  {
   "cell_type": "code",
   "execution_count": 243,
   "metadata": {},
   "outputs": [],
   "source": [
    "import math\n",
    "import pandas as pd\n",
    "import tensorflow as tf\n",
    "import matplotlib.pyplot as plt\n",
    "from tensorflow.keras import Model\n",
    "from tensorflow.keras import Sequential\n",
    "from tensorflow.keras.optimizers import Adam\n",
    "from sklearn.preprocessing import StandardScaler\n",
    "from tensorflow.keras.layers import Dense, Dropout\n",
    "from tensorflow.keras.losses import MeanSquaredLogarithmicError\n",
    "from sklearn.metrics import r2_score\n",
    "\n",
    "X_train = pd.DataFrame(X_train)\n",
    "X_test = pd.DataFrame(X_test)\n",
    "y_train = pd.DataFrame(y_train)\n",
    "y_test = pd.DataFrame(y_test)\n",
    "\n",
    "def scale_datasets(x_train, x_test):\n",
    "    \"\"\"\n",
    "    Standard Scale test and train data\n",
    "    Z - Score normalization\n",
    "    \"\"\"\n",
    "    standard_scaler = StandardScaler()\n",
    "    x_train_scaled = pd.DataFrame(\n",
    "        standard_scaler.fit_transform(x_train),\n",
    "        columns=x_train.columns\n",
    "    )\n",
    "    x_test_scaled = pd.DataFrame(\n",
    "        standard_scaler.transform(x_test),\n",
    "        columns = x_test.columns\n",
    "    )\n",
    "    return x_train_scaled, x_test_scaled\n",
    "x_train_scaled, x_test_scaled = scale_datasets(X_train, X_test)"
   ]
  },
  {
   "cell_type": "code",
   "execution_count": 244,
   "metadata": {},
   "outputs": [],
   "source": [
    "hidden_units1 = 160\n",
    "hidden_units2 = 480\n",
    "hidden_units3 = 256\n",
    "learning_rate = 5e-2\n",
    "# Creating model using the Sequential in tensorflow\n",
    "def build_model_using_sequential():\n",
    "  model = Sequential([\n",
    "    Dense(hidden_units1, kernel_initializer='normal', activation='relu'),\n",
    "    Dropout(0.2),\n",
    "    Dense(hidden_units2, kernel_initializer='normal', activation='relu'),\n",
    "    Dropout(0.2),\n",
    "    Dense(hidden_units3, kernel_initializer='normal', activation='relu'),\n",
    "    Dense(1, kernel_initializer='normal', activation='linear')\n",
    "  ])\n",
    "  return model\n",
    "# build the model\n",
    "model = build_model_using_sequential()"
   ]
  },
  {
   "cell_type": "code",
   "execution_count": 245,
   "metadata": {},
   "outputs": [
    {
     "name": "stdout",
     "output_type": "stream",
     "text": [
      "Epoch 1/10\n"
     ]
    },
    {
     "name": "stderr",
     "output_type": "stream",
     "text": [
      "2022-11-08 23:37:10.005563: I tensorflow/core/grappler/optimizers/custom_graph_optimizer_registry.cc:114] Plugin optimizer for device_type GPU is enabled.\n"
     ]
    },
    {
     "name": "stdout",
     "output_type": "stream",
     "text": [
      "176/176 [==============================] - 3s 11ms/step - loss: 0.9659 - mean_squared_logarithmic_error: 0.9656 - val_loss: 0.3319 - val_mean_squared_logarithmic_error: 0.3319\n",
      "Epoch 2/10\n",
      "  1/176 [..............................] - ETA: 2s - loss: 0.4496 - mean_squared_logarithmic_error: 0.4496"
     ]
    },
    {
     "name": "stderr",
     "output_type": "stream",
     "text": [
      "2022-11-08 23:37:12.542305: I tensorflow/core/grappler/optimizers/custom_graph_optimizer_registry.cc:114] Plugin optimizer for device_type GPU is enabled.\n"
     ]
    },
    {
     "name": "stdout",
     "output_type": "stream",
     "text": [
      "176/176 [==============================] - 1s 7ms/step - loss: 0.3510 - mean_squared_logarithmic_error: 0.3510 - val_loss: 0.3153 - val_mean_squared_logarithmic_error: 0.3153\n",
      "Epoch 3/10\n",
      "176/176 [==============================] - 1s 6ms/step - loss: 0.3334 - mean_squared_logarithmic_error: 0.3336 - val_loss: 0.3494 - val_mean_squared_logarithmic_error: 0.3494\n",
      "Epoch 4/10\n",
      "176/176 [==============================] - 1s 6ms/step - loss: 0.3203 - mean_squared_logarithmic_error: 0.3203 - val_loss: 0.3076 - val_mean_squared_logarithmic_error: 0.3076\n",
      "Epoch 5/10\n",
      "176/176 [==============================] - 1s 6ms/step - loss: 0.3409 - mean_squared_logarithmic_error: 0.3408 - val_loss: 0.3568 - val_mean_squared_logarithmic_error: 0.3568\n",
      "Epoch 6/10\n",
      "176/176 [==============================] - 1s 7ms/step - loss: 0.3374 - mean_squared_logarithmic_error: 0.3373 - val_loss: 0.3216 - val_mean_squared_logarithmic_error: 0.3216\n",
      "Epoch 7/10\n",
      "176/176 [==============================] - 2s 9ms/step - loss: 0.3120 - mean_squared_logarithmic_error: 0.3121 - val_loss: 0.3225 - val_mean_squared_logarithmic_error: 0.3225\n",
      "Epoch 8/10\n",
      "176/176 [==============================] - 1s 6ms/step - loss: 0.3138 - mean_squared_logarithmic_error: 0.3137 - val_loss: 0.3098 - val_mean_squared_logarithmic_error: 0.3098\n",
      "Epoch 9/10\n",
      "176/176 [==============================] - 1s 6ms/step - loss: 0.3181 - mean_squared_logarithmic_error: 0.3180 - val_loss: 0.3581 - val_mean_squared_logarithmic_error: 0.3581\n",
      "Epoch 10/10\n",
      "176/176 [==============================] - 1s 7ms/step - loss: 0.3106 - mean_squared_logarithmic_error: 0.3106 - val_loss: 0.3081 - val_mean_squared_logarithmic_error: 0.3081\n"
     ]
    }
   ],
   "source": [
    "# loss function\n",
    "msle = MeanSquaredLogarithmicError()\n",
    "model.compile(\n",
    "    loss=msle, \n",
    "    optimizer=Adam(learning_rate=learning_rate), \n",
    "    metrics=[msle]\n",
    ")\n",
    "# train the model\n",
    "history = model.fit(\n",
    "    x_train_scaled.values, \n",
    "    np.asarray(y_train.values).astype('float32'), \n",
    "    epochs=10, \n",
    "    batch_size=10,\n",
    "    validation_split=0.2\n",
    ")"
   ]
  },
  {
   "cell_type": "code",
   "execution_count": 246,
   "metadata": {},
   "outputs": [
    {
     "data": {
      "image/png": "[encoded data removed]",
      "text/plain": [
       "<Figure size 640x480 with 1 Axes>"
      ]
     },
     "metadata": {},
     "output_type": "display_data"
    },
    {
     "name": "stdout",
     "output_type": "stream",
     "text": [
      "23/23 [==============================] - 0s 2ms/step\n",
      "23/23 [==============================] - 0s 2ms/step\n"
     ]
    },
    {
     "name": "stderr",
     "output_type": "stream",
     "text": [
      "2022-11-08 23:37:23.701342: I tensorflow/core/grappler/optimizers/custom_graph_optimizer_registry.cc:114] Plugin optimizer for device_type GPU is enabled.\n"
     ]
    },
    {
     "data": {
      "text/plain": [
       "0.28134848574341953"
      ]
     },
     "execution_count": 246,
     "metadata": {},
     "output_type": "execute_result"
    }
   ],
   "source": [
    "def plot_history(history, key):\n",
    "  plt.plot(history.history[key])\n",
    "  plt.plot(history.history['val_'+key])\n",
    "  plt.xlabel(\"Epochs\")\n",
    "  plt.ylabel(key)\n",
    "  plt.legend([key, 'val_'+key])\n",
    "  plt.show()\n",
    "# Plot the history\n",
    "plot_history(history, 'mean_squared_logarithmic_error')\n",
    "\n",
    "X_test['prediction'] = model.predict(x_test_scaled)\n",
    "\n",
    "r2_score(y_test, model.predict(x_test_scaled))\n"
   ]
  }
 ],
 "metadata": {
  "kernelspec": {
   "display_name": "Python 3.10.6 ('base')",
   "language": "python",
   "name": "python3"
  },
  "language_info": {
   "codemirror_mode": {
    "name": "ipython",
    "version": 3
   },
   "file_extension": ".py",
   "mimetype": "text/x-python",
   "name": "python",
   "nbconvert_exporter": "python",
   "pygments_lexer": "ipython3",
   "version": "3.10.6"
  },
  "orig_nbformat": 4,
  "vscode": {
   "interpreter": {
    "hash": "6a1beba0eec8c8900e76e1a0c55ed52e22896ea47aa24a217547588df6ec7114"
   }
  }
 },
 "nbformat": 4,
 "nbformat_minor": 2
}
