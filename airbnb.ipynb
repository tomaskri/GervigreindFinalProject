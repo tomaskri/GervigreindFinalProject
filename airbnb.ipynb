{
 "cells": [
  {
   "cell_type": "code",
   "execution_count": 174,
   "metadata": {},
   "outputs": [],
   "source": [
    "import numpy as np\n",
    "def string_features_to_num(array):\n",
    "    dictOfWords = { i : np.unique(array)[i] for i in range(0, len(np.unique(array)) ) }\n",
    "    dictOfWords = {v: k for k, v in dictOfWords.items()}\n",
    "\n",
    "    values = np.zeros(len(array))\n",
    "    for i in range(len(array)):\n",
    "        values[i] = dictOfWords.get(array[i])\n",
    "        \n",
    "    return values"
   ]
  },
  {
   "cell_type": "code",
   "execution_count": 175,
   "metadata": {},
   "outputs": [
    {
     "name": "stdout",
     "output_type": "stream",
     "text": [
      "(11817, 9)\n"
     ]
    }
   ],
   "source": [
    "import numpy as np\n",
    "from sklearn.model_selection import train_test_split\n",
    "import pandas as pd\n",
    "data = pd.read_csv('listings.csv.gz', nrows=13815, compression='gzip')\n",
    "import re\n",
    "# for i, data in enumerate(data.columns):\n",
    "#     print (i, data)\n",
    "\n",
    "data = data[['accommodates','bedrooms', 'beds', 'review_scores_rating','review_scores_location','review_scores_value','property_type','room_type','price']]\n",
    "\n",
    "# data = data[['bedrooms', 'price']]\n",
    "\n",
    "\n",
    "data = data.dropna()\n",
    "\n",
    "\n",
    "datanp = np.array(data)\n",
    "X = datanp[:,:-1]\n",
    "y = datanp[:,-1]\n",
    "# X = datanp[:,0]\n",
    "# y = datanp[:,1]\n",
    "\n",
    "for i in range(len(y)):\n",
    "    y[i] = float(re.sub(\",\", \"\", (y[i][1:])))\n",
    "\n",
    "\n",
    "X[:, -2] = string_features_to_num(X[:, -2])\n",
    "X[:, -1] = string_features_to_num(X[:, -1])\n",
    "\n",
    "print(datanp.shape)"
   ]
  },
  {
   "cell_type": "code",
   "execution_count": 176,
   "metadata": {},
   "outputs": [],
   "source": [
    "X_trainval, X_test, y_trainval, y_test = train_test_split(X, y, test_size=0.20, random_state=42)\n",
    "X_train, X_val, y_train, y_val = train_test_split(X_trainval, y_trainval, test_size=0.25, random_state=42);"
   ]
  },
  {
   "cell_type": "code",
   "execution_count": 124,
   "metadata": {},
   "outputs": [
    {
     "name": "stdout",
     "output_type": "stream",
     "text": [
      "Shared room in bed and breakfast Minsu Barn Entire loft Private room in hut Entire vacation home Shared room in casa particular Private room in guesthouse Private room in vacation home Private room in townhouse Entire rental unit Entire guest suite Entire cabin Private room in home Shared room in rental unit Private room in condo Tiny home Room in hotel Shared room in bungalow Shared room in hostel Room in hostel Room in aparthotel Entire place Private room Entire bungalow Hut Private room in rental unit Entire home Entire townhouse Boat Entire villa Private room in hostel Private room in bed and breakfast Shared room in loft Private room in bungalow Room in boutique hotel Private room in loft Private room in guest suite Entire cottage Camper/RV Entire guesthouse Private room in serviced apartment Private room in boat Shared room in condo Shared room in home Houseboat Entire serviced apartment Entire condo Private room in tiny home Private room in villa Private room in casa particular Room in serviced apartment "
     ]
    }
   ],
   "source": [
    "# ## Bjoggacell\n",
    "\n",
    "# # property type : index 32\n",
    "\n",
    "# def findDisStr(arr, N):\n",
    "#     DistString = set()\n",
    "\n",
    "#     for i in range(N):\n",
    "#         if (arr[i] not in DistString):\n",
    "#             DistString.add(arr[i])\n",
    "\n",
    "#     for string in DistString:\n",
    "#         print(string, end = \" \")\n",
    "#     return DistString\n",
    "\n",
    "# secondData = pd.read_csv('listings.csv.gz', nrows=13815, compression='gzip')\n",
    "# propertyData = secondData['property_type']\n",
    "# # print(propertyData)\n",
    "\n",
    "# propertyDataArray = np.array(propertyData)\n",
    "# N = len(propertyDataArray)\n",
    "\n",
    "# distinct_strings = findDisStr(propertyDataArray, N)"
   ]
  },
  {
   "cell_type": "code",
   "execution_count": 165,
   "metadata": {},
   "outputs": [
    {
     "name": "stdout",
     "output_type": "stream",
     "text": [
      "Entire rental unit , 12.0\n",
      "Entire home , 9.0\n",
      "Entire townhouse , 14.0\n",
      "Entire rental unit , 12.0\n",
      "Entire condo , 5.0\n",
      "Entire rental unit , 12.0\n",
      "Entire rental unit , 12.0\n",
      "Entire rental unit , 12.0\n",
      "Entire rental unit , 12.0\n",
      "Entire rental unit , 12.0\n",
      "[['Barn' 0]\n",
      " ['Boat' 1]\n",
      " ['Camper/RV' 2]\n",
      " ['Entire bungalow' 3]\n",
      " ['Entire cabin' 4]\n",
      " ['Entire condo' 5]\n",
      " ['Entire cottage' 6]\n",
      " ['Entire guest suite' 7]\n",
      " ['Entire guesthouse' 8]\n",
      " ['Entire home' 9]\n",
      " ['Entire loft' 10]\n",
      " ['Entire place' 11]\n",
      " ['Entire rental unit' 12]\n",
      " ['Entire serviced apartment' 13]\n",
      " ['Entire townhouse' 14]\n",
      " ['Entire vacation home' 15]\n",
      " ['Entire villa' 16]\n",
      " ['Houseboat' 17]\n",
      " ['Hut' 18]\n",
      " ['Minsu' 19]\n",
      " ['Private room' 20]\n",
      " ['Private room in bed and breakfast' 21]\n",
      " ['Private room in boat' 22]\n",
      " ['Private room in bungalow' 23]\n",
      " ['Private room in casa particular' 24]\n",
      " ['Private room in condo' 25]\n",
      " ['Private room in guest suite' 26]\n",
      " ['Private room in guesthouse' 27]\n",
      " ['Private room in home' 28]\n",
      " ['Private room in hostel' 29]\n",
      " ['Private room in hut' 30]\n",
      " ['Private room in loft' 31]\n",
      " ['Private room in rental unit' 32]\n",
      " ['Private room in serviced apartment' 33]\n",
      " ['Private room in tiny home' 34]\n",
      " ['Private room in townhouse' 35]\n",
      " ['Private room in vacation home' 36]\n",
      " ['Private room in villa' 37]\n",
      " ['Room in aparthotel' 38]\n",
      " ['Room in boutique hotel' 39]\n",
      " ['Room in hostel' 40]\n",
      " ['Room in hotel' 41]\n",
      " ['Room in serviced apartment' 42]\n",
      " ['Shared room in bed and breakfast' 43]\n",
      " ['Shared room in bungalow' 44]\n",
      " ['Shared room in casa particular' 45]\n",
      " ['Shared room in condo' 46]\n",
      " ['Shared room in home' 47]\n",
      " ['Shared room in hostel' 48]\n",
      " ['Shared room in loft' 49]\n",
      " ['Shared room in rental unit' 50]\n",
      " ['Tiny home' 51]]\n"
     ]
    }
   ],
   "source": [
    "unique = np.vstack((np.unique(propertyData), range(len(np.unique(propertyData))))).T\n",
    "unique.shape\n",
    "\n",
    "secondData = pd.read_csv('listings.csv.gz', nrows=13815, compression='gzip')\n",
    "propertyData = secondData['property_type']\n",
    "# print(propertyData)\n",
    "\n",
    "propertyDataArray = np.array(propertyData)\n",
    "\n",
    "propertyDataValues = np.zeros(len(propertyDataArray))\n",
    "\n",
    "for i in range(len(propertyDataArray)):\n",
    "    j = 0\n",
    "    while(propertyDataArray[i] != unique[j,0]):\n",
    "        j += 1\n",
    "    propertyDataValues[i] = unique[j,1]\n",
    "\n",
    "for k in range(10):\n",
    "    print(propertyDataArray[k], \",\",propertyDataValues[k])\n",
    "\n",
    "print(unique)\n"
   ]
  },
  {
   "cell_type": "code",
   "execution_count": 183,
   "metadata": {},
   "outputs": [],
   "source": [
    "from sklearn.linear_model import LinearRegression\n",
    "from sklearn.svm import SVR\n",
    "\n",
    "linear_model = LinearRegression()\n",
    "svr_model = SVR(C=60, epsilon=0.95)"
   ]
  },
  {
   "cell_type": "code",
   "execution_count": 184,
   "metadata": {},
   "outputs": [
    {
     "name": "stdout",
     "output_type": "stream",
     "text": [
      "0.1000303501137122 0.11155346505636221 0.07928435025612734 0.0878671038351917\n"
     ]
    }
   ],
   "source": [
    "linear_model.fit(X_train, y_train)\n",
    "linear_train_score = linear_model.score(X_train, y_train)\n",
    "linear_test_score = linear_model.score(X_test,y_test)\n",
    "\n",
    "svr_model.fit(X_train, y_train)\n",
    "svr_train_score = svr_model.score(X_train, y_train)\n",
    "svr_test_score = svr_model.score(X_test,y_test)\n",
    "\n",
    "\n",
    "print(linear_train_score, linear_test_score, svr_train_score, svr_test_score)"
   ]
  }
 ],
 "metadata": {
  "kernelspec": {
   "display_name": "Python 3.10.6 ('base')",
   "language": "python",
   "name": "python3"
  },
  "language_info": {
   "codemirror_mode": {
    "name": "ipython",
    "version": 3
   },
   "file_extension": ".py",
   "mimetype": "text/x-python",
   "name": "python",
   "nbconvert_exporter": "python",
   "pygments_lexer": "ipython3",
   "version": "3.10.6"
  },
  "orig_nbformat": 4,
  "vscode": {
   "interpreter": {
    "hash": "6a1beba0eec8c8900e76e1a0c55ed52e22896ea47aa24a217547588df6ec7114"
   }
  }
 },
 "nbformat": 4,
 "nbformat_minor": 2
}
