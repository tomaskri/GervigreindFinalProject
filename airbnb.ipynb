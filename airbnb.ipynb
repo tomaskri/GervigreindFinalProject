{
 "cells": [
  {
   "cell_type": "code",
   "execution_count": 14,
   "metadata": {},
   "outputs": [
    {
     "name": "stdout",
     "output_type": "stream",
     "text": [
      "0 id\n",
      "1 listing_url\n",
      "2 scrape_id\n",
      "3 last_scraped\n",
      "4 source\n",
      "5 name\n",
      "6 description\n",
      "7 neighborhood_overview\n",
      "8 picture_url\n",
      "9 host_id\n",
      "10 host_url\n",
      "11 host_name\n",
      "12 host_since\n",
      "13 host_location\n",
      "14 host_about\n",
      "15 host_response_time\n",
      "16 host_response_rate\n",
      "17 host_acceptance_rate\n",
      "18 host_is_superhost\n",
      "19 host_thumbnail_url\n",
      "20 host_picture_url\n",
      "21 host_neighbourhood\n",
      "22 host_listings_count\n",
      "23 host_total_listings_count\n",
      "24 host_verifications\n",
      "25 host_has_profile_pic\n",
      "26 host_identity_verified\n",
      "27 neighbourhood\n",
      "28 neighbourhood_cleansed\n",
      "29 neighbourhood_group_cleansed\n",
      "30 latitude\n",
      "31 longitude\n",
      "32 property_type\n",
      "33 room_type\n",
      "34 accommodates\n",
      "35 bathrooms\n",
      "36 bathrooms_text\n",
      "37 bedrooms\n",
      "38 beds\n",
      "39 amenities\n",
      "40 price\n",
      "41 minimum_nights\n",
      "42 maximum_nights\n",
      "43 minimum_minimum_nights\n",
      "44 maximum_minimum_nights\n",
      "45 minimum_maximum_nights\n",
      "46 maximum_maximum_nights\n",
      "47 minimum_nights_avg_ntm\n",
      "48 maximum_nights_avg_ntm\n",
      "49 calendar_updated\n",
      "50 has_availability\n",
      "51 availability_30\n",
      "52 availability_60\n",
      "53 availability_90\n",
      "54 availability_365\n",
      "55 calendar_last_scraped\n",
      "56 number_of_reviews\n",
      "57 number_of_reviews_ltm\n",
      "58 number_of_reviews_l30d\n",
      "59 first_review\n",
      "60 last_review\n",
      "61 review_scores_rating\n",
      "62 review_scores_accuracy\n",
      "63 review_scores_cleanliness\n",
      "64 review_scores_checkin\n",
      "65 review_scores_communication\n",
      "66 review_scores_location\n",
      "67 review_scores_value\n",
      "68 license\n",
      "69 instant_bookable\n",
      "70 calculated_host_listings_count\n",
      "71 calculated_host_listings_count_entire_homes\n",
      "72 calculated_host_listings_count_private_rooms\n",
      "73 calculated_host_listings_count_shared_rooms\n",
      "74 reviews_per_month\n"
     ]
    },
    {
     "name": "stderr",
     "output_type": "stream",
     "text": [
      "/var/folders/88/1093dd7s7hd3k8tyv15c9snc0000gn/T/ipykernel_68024/738466473.py:4: FutureWarning: The error_bad_lines argument has been deprecated and will be removed in a future version. Use on_bad_lines in the future.\n",
      "\n",
      "\n",
      "  data = pd.read_csv('listings.csv.gz', nrows=100, compression='gzip',\n"
     ]
    }
   ],
   "source": [
    "import numpy as np\n",
    "from sklearn.model_selection import train_test_split\n",
    "import pandas as pd\n",
    "data = pd.read_csv('listings.csv.gz', nrows=100, compression='gzip',\n",
    "                   error_bad_lines=False)\n",
    "for i, data in enumerate(data.columns):\n",
    "    print (i, data)\n",
    "\n"
   ]
  },
  {
   "cell_type": "code",
   "execution_count": null,
   "metadata": {},
   "outputs": [],
   "source": []
  }
 ],
 "metadata": {
  "kernelspec": {
   "display_name": "Python 3.10.6 ('base')",
   "language": "python",
   "name": "python3"
  },
  "language_info": {
   "codemirror_mode": {
    "name": "ipython",
    "version": 3
   },
   "file_extension": ".py",
   "mimetype": "text/x-python",
   "name": "python",
   "nbconvert_exporter": "python",
   "pygments_lexer": "ipython3",
   "version": "3.10.6"
  },
  "orig_nbformat": 4,
  "vscode": {
   "interpreter": {
    "hash": "6a1beba0eec8c8900e76e1a0c55ed52e22896ea47aa24a217547588df6ec7114"
   }
  }
 },
 "nbformat": 4,
 "nbformat_minor": 2
}
